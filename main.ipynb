{
 "cells": [
  {
   "cell_type": "code",
   "execution_count": 143,
   "metadata": {},
   "outputs": [],
   "source": [
    "#libraries\n",
    "import math\n",
    "import numpy as np\n",
    "import matplotlib.pyplot as plt\n",
    "import pandas as pd\n",
    "import pandas_datareader as web\n",
    "from sklearn.preprocessing import MinMaxScaler\n",
    "from keras.models import Sequential\n",
    "from keras.layers import Dense, LSTM"
   ]
  },
  {
   "cell_type": "code",
   "execution_count": null,
   "metadata": {},
   "outputs": [],
   "source": []
  },
  {
   "cell_type": "code",
   "execution_count": 144,
   "metadata": {},
   "outputs": [],
   "source": [
    "#get data from yahoo of any company\n",
    "data_frame=web.DataReader('AMZN',data_source='yahoo',start='2010-01-01',end='2022-01-31')"
   ]
  },
  {
   "cell_type": "code",
   "execution_count": 145,
   "metadata": {},
   "outputs": [
    {
     "data": {
      "text/html": [
       "<div>\n",
       "<style scoped>\n",
       "    .dataframe tbody tr th:only-of-type {\n",
       "        vertical-align: middle;\n",
       "    }\n",
       "\n",
       "    .dataframe tbody tr th {\n",
       "        vertical-align: top;\n",
       "    }\n",
       "\n",
       "    .dataframe thead th {\n",
       "        text-align: right;\n",
       "    }\n",
       "</style>\n",
       "<table border=\"1\" class=\"dataframe\">\n",
       "  <thead>\n",
       "    <tr style=\"text-align: right;\">\n",
       "      <th></th>\n",
       "      <th>High</th>\n",
       "      <th>Low</th>\n",
       "      <th>Open</th>\n",
       "      <th>Close</th>\n",
       "      <th>Volume</th>\n",
       "      <th>Adj Close</th>\n",
       "    </tr>\n",
       "    <tr>\n",
       "      <th>Date</th>\n",
       "      <th></th>\n",
       "      <th></th>\n",
       "      <th></th>\n",
       "      <th></th>\n",
       "      <th></th>\n",
       "      <th></th>\n",
       "    </tr>\n",
       "  </thead>\n",
       "  <tbody>\n",
       "    <tr>\n",
       "      <th>2009-12-31</th>\n",
       "      <td>137.279999</td>\n",
       "      <td>134.520004</td>\n",
       "      <td>137.089996</td>\n",
       "      <td>134.520004</td>\n",
       "      <td>4523000</td>\n",
       "      <td>134.520004</td>\n",
       "    </tr>\n",
       "    <tr>\n",
       "      <th>2010-01-04</th>\n",
       "      <td>136.610001</td>\n",
       "      <td>133.139999</td>\n",
       "      <td>136.250000</td>\n",
       "      <td>133.899994</td>\n",
       "      <td>7599900</td>\n",
       "      <td>133.899994</td>\n",
       "    </tr>\n",
       "    <tr>\n",
       "      <th>2010-01-05</th>\n",
       "      <td>135.479996</td>\n",
       "      <td>131.809998</td>\n",
       "      <td>133.429993</td>\n",
       "      <td>134.690002</td>\n",
       "      <td>8851900</td>\n",
       "      <td>134.690002</td>\n",
       "    </tr>\n",
       "    <tr>\n",
       "      <th>2010-01-06</th>\n",
       "      <td>134.729996</td>\n",
       "      <td>131.649994</td>\n",
       "      <td>134.600006</td>\n",
       "      <td>132.250000</td>\n",
       "      <td>7178800</td>\n",
       "      <td>132.250000</td>\n",
       "    </tr>\n",
       "    <tr>\n",
       "      <th>2010-01-07</th>\n",
       "      <td>132.320007</td>\n",
       "      <td>128.800003</td>\n",
       "      <td>132.009995</td>\n",
       "      <td>130.000000</td>\n",
       "      <td>11030200</td>\n",
       "      <td>130.000000</td>\n",
       "    </tr>\n",
       "    <tr>\n",
       "      <th>...</th>\n",
       "      <td>...</td>\n",
       "      <td>...</td>\n",
       "      <td>...</td>\n",
       "      <td>...</td>\n",
       "      <td>...</td>\n",
       "      <td>...</td>\n",
       "    </tr>\n",
       "    <tr>\n",
       "      <th>2022-01-25</th>\n",
       "      <td>2872.000000</td>\n",
       "      <td>2762.899902</td>\n",
       "      <td>2844.850098</td>\n",
       "      <td>2799.719971</td>\n",
       "      <td>4541200</td>\n",
       "      <td>2799.719971</td>\n",
       "    </tr>\n",
       "    <tr>\n",
       "      <th>2022-01-26</th>\n",
       "      <td>2903.699951</td>\n",
       "      <td>2746.370117</td>\n",
       "      <td>2895.000000</td>\n",
       "      <td>2777.449951</td>\n",
       "      <td>4780100</td>\n",
       "      <td>2777.449951</td>\n",
       "    </tr>\n",
       "    <tr>\n",
       "      <th>2022-01-27</th>\n",
       "      <td>2884.870117</td>\n",
       "      <td>2787.000000</td>\n",
       "      <td>2816.000000</td>\n",
       "      <td>2792.750000</td>\n",
       "      <td>3860100</td>\n",
       "      <td>2792.750000</td>\n",
       "    </tr>\n",
       "    <tr>\n",
       "      <th>2022-01-28</th>\n",
       "      <td>2879.959961</td>\n",
       "      <td>2758.590088</td>\n",
       "      <td>2817.209961</td>\n",
       "      <td>2879.560059</td>\n",
       "      <td>3705700</td>\n",
       "      <td>2879.560059</td>\n",
       "    </tr>\n",
       "    <tr>\n",
       "      <th>2022-01-31</th>\n",
       "      <td>2957.770020</td>\n",
       "      <td>2886.010010</td>\n",
       "      <td>2895.000000</td>\n",
       "      <td>2946.070068</td>\n",
       "      <td>1481684</td>\n",
       "      <td>2946.070068</td>\n",
       "    </tr>\n",
       "  </tbody>\n",
       "</table>\n",
       "<p>3042 rows × 6 columns</p>\n",
       "</div>"
      ],
      "text/plain": [
       "                   High          Low         Open        Close    Volume  \\\n",
       "Date                                                                       \n",
       "2009-12-31   137.279999   134.520004   137.089996   134.520004   4523000   \n",
       "2010-01-04   136.610001   133.139999   136.250000   133.899994   7599900   \n",
       "2010-01-05   135.479996   131.809998   133.429993   134.690002   8851900   \n",
       "2010-01-06   134.729996   131.649994   134.600006   132.250000   7178800   \n",
       "2010-01-07   132.320007   128.800003   132.009995   130.000000  11030200   \n",
       "...                 ...          ...          ...          ...       ...   \n",
       "2022-01-25  2872.000000  2762.899902  2844.850098  2799.719971   4541200   \n",
       "2022-01-26  2903.699951  2746.370117  2895.000000  2777.449951   4780100   \n",
       "2022-01-27  2884.870117  2787.000000  2816.000000  2792.750000   3860100   \n",
       "2022-01-28  2879.959961  2758.590088  2817.209961  2879.560059   3705700   \n",
       "2022-01-31  2957.770020  2886.010010  2895.000000  2946.070068   1481684   \n",
       "\n",
       "              Adj Close  \n",
       "Date                     \n",
       "2009-12-31   134.520004  \n",
       "2010-01-04   133.899994  \n",
       "2010-01-05   134.690002  \n",
       "2010-01-06   132.250000  \n",
       "2010-01-07   130.000000  \n",
       "...                 ...  \n",
       "2022-01-25  2799.719971  \n",
       "2022-01-26  2777.449951  \n",
       "2022-01-27  2792.750000  \n",
       "2022-01-28  2879.560059  \n",
       "2022-01-31  2946.070068  \n",
       "\n",
       "[3042 rows x 6 columns]"
      ]
     },
     "execution_count": 145,
     "metadata": {},
     "output_type": "execute_result"
    }
   ],
   "source": [
    "#see the data\n",
    "data_frame"
   ]
  },
  {
   "cell_type": "code",
   "execution_count": 146,
   "metadata": {},
   "outputs": [
    {
     "data": {
      "text/plain": [
       "(3042, 6)"
      ]
     },
     "execution_count": 146,
     "metadata": {},
     "output_type": "execute_result"
    }
   ],
   "source": [
    "#rows and columns\n",
    "data_frame.shape"
   ]
  },
  {
   "cell_type": "code",
   "execution_count": 147,
   "metadata": {},
   "outputs": [
    {
     "data": {
      "text/plain": [
       "<AxesSubplot:xlabel='Date'>"
      ]
     },
     "execution_count": 147,
     "metadata": {},
     "output_type": "execute_result"
    },
    {
     "data": {
      "image/png": "[encoded data removed]",
      "text/plain": [
       "<Figure size 1152x576 with 1 Axes>"
      ]
     },
     "metadata": {
      "needs_background": "light"
     },
     "output_type": "display_data"
    }
   ],
   "source": [
    "#see how the data looks like graphically\n",
    "data_frame['Close'].plot(figsize=(16,8))"
   ]
  },
  {
   "cell_type": "code",
   "execution_count": 148,
   "metadata": {},
   "outputs": [
    {
     "data": {
      "text/plain": [
       "2434"
      ]
     },
     "execution_count": 148,
     "metadata": {},
     "output_type": "execute_result"
    }
   ],
   "source": [
    "#get the close price of the stock data in a numpy array\n",
    "data_close=data_frame.filter(['Close'])\n",
    "data_close_set=data_close.values\n",
    "#training set 80% of the data\n",
    "training_data_len=math.ceil(len(data_close)*0.8)\n",
    "training_data_len\n"
   ]
  },
  {
   "cell_type": "code",
   "execution_count": 149,
   "metadata": {},
   "outputs": [
    {
     "data": {
      "text/plain": [
       "array([[0.00715193],\n",
       "       [0.00698079],\n",
       "       [0.00719885],\n",
       "       ...,\n",
       "       [0.74090208],\n",
       "       [0.76486423],\n",
       "       [0.78322296]])"
      ]
     },
     "execution_count": 149,
     "metadata": {},
     "output_type": "execute_result"
    }
   ],
   "source": [
    "#scaling  the data\n",
    "scale=MinMaxScaler(feature_range=(0,1))\n",
    "scaled_data=scale.fit_transform(data_close)\n",
    "scaled_data"
   ]
  },
  {
   "cell_type": "code",
   "execution_count": 150,
   "metadata": {},
   "outputs": [
    {
     "name": "stdout",
     "output_type": "stream",
     "text": [
      "[array([0.00715193, 0.00698079, 0.00719885, 0.00652534, 0.00590427,\n",
      "       0.0068759 , 0.00598984, 0.00517279, 0.00565861, 0.00517279,\n",
      "       0.00511483, 0.00524456, 0.00473943, 0.00497129, 0.0035387 ,\n",
      "       0.00322955, 0.00300044, 0.00390306, 0.00480844, 0.0046373 ,\n",
      "       0.00283206, 0.00262504, 0.00289555, 0.0020233 , 0.00242354,\n",
      "       0.00226896, 0.0026002 , 0.00241526, 0.00316882, 0.00305013,\n",
      "       0.00246218, 0.00212543, 0.002614  , 0.00245942, 0.00259468,\n",
      "       0.00238213, 0.00306669, 0.00264712, 0.00270233, 0.00439715,\n",
      "       0.00467042, 0.00476979, 0.00549851, 0.0056034 , 0.00593464,\n",
      "       0.00557856, 0.00604505, 0.00689246, 0.00640665, 0.00621619,\n",
      "       0.00639836, 0.00627415, 0.00666611, 0.00600088, 0.00603401,\n",
      "       0.00570001, 0.00536325, 0.00720989, 0.00730098, 0.00731754])]\n",
      "[0.007720548168261895]\n",
      "\n"
     ]
    }
   ],
   "source": [
    "training_data=scaled_data[0:training_data_len,:]\n",
    "x_train=[]\n",
    "y_train=[]\n",
    "for i in range(60,len(training_data)):\n",
    "    x_train.append(training_data[i-60:i,0])\n",
    "    y_train.append(training_data[i,0])\n",
    "    if i<=60:\n",
    "        print(x_train)\n",
    "        print(y_train)\n",
    "        print()"
   ]
  },
  {
   "cell_type": "code",
   "execution_count": 151,
   "metadata": {},
   "outputs": [
    {
     "data": {
      "text/plain": [
       "(2374, 60, 1)"
      ]
     },
     "execution_count": 151,
     "metadata": {},
     "output_type": "execute_result"
    }
   ],
   "source": [
    "#convert training datasets to numpy and reshaping the data\n",
    "x_train,y_train=np.array(x_train),np.array(y_train)\n",
    "x_train=np.reshape(x_train,(x_train.shape[0],x_train.shape[1],1))\n",
    "x_train.shape"
   ]
  },
  {
   "cell_type": "code",
   "execution_count": 152,
   "metadata": {},
   "outputs": [],
   "source": [
    "#lstm model\n",
    "model=Sequential()\n",
    "model.add(LSTM(units=50,return_sequences=True,input_shape=(x_train.shape[1],1)))\n",
    "model.add(LSTM(units=50,return_sequences=False))\n",
    "model.add(Dense(25))\n",
    "model.add(Dense(1))"
   ]
  },
  {
   "cell_type": "code",
   "execution_count": 153,
   "metadata": {},
   "outputs": [],
   "source": [
    "#running the model\n",
    "model.compile(optimizer='adam',loss='mean_squared_error')"
   ]
  },
  {
   "cell_type": "code",
   "execution_count": 154,
   "metadata": {},
   "outputs": [
    {
     "name": "stdout",
     "output_type": "stream",
     "text": [
      "2374/2374 [==============================] - 34s 14ms/step - loss: 3.2018e-04\n"
     ]
    },
    {
     "data": {
      "text/plain": [
       "<keras.callbacks.History at 0x26031e3bd90>"
      ]
     },
     "execution_count": 154,
     "metadata": {},
     "output_type": "execute_result"
    }
   ],
   "source": [
    "model.fit(x_train,y_train,batch_size=1,epochs=1)"
   ]
  },
  {
   "cell_type": "code",
   "execution_count": 155,
   "metadata": {},
   "outputs": [],
   "source": [
    "#creating test-data set\n",
    "test_data=scaled_data[training_data_len-60:,:]\n",
    "x_test=[]\n",
    "y_test=data_close_set[training_data_len:,:]\n",
    "for i in range(60,len(test_data)):\n",
    "    x_test.append(test_data[i-60:i,0])"
   ]
  },
  {
   "cell_type": "code",
   "execution_count": 156,
   "metadata": {},
   "outputs": [],
   "source": [
    "#make data into numpy\n",
    "x_test=np.array(x_test)\n",
    "x_test=np.reshape(x_test,(x_test.shape[0],x_test.shape[1],1))"
   ]
  },
  {
   "cell_type": "code",
   "execution_count": 157,
   "metadata": {},
   "outputs": [],
   "source": [
    "#Get the predicted price of the stock\n",
    "predictions=model.predict(x_test)\n",
    "predictions=scale.inverse_transform(predictions)"
   ]
  },
  {
   "cell_type": "code",
   "execution_count": 158,
   "metadata": {},
   "outputs": [
    {
     "data": {
      "text/plain": [
       "206.58723012536825"
      ]
     },
     "execution_count": 158,
     "metadata": {},
     "output_type": "execute_result"
    }
   ],
   "source": [
    "#get root mean squared error\n",
    "rmse = np.sqrt(np.mean(((predictions - y_test)**2)))\n",
    "rmse\n"
   ]
  },
  {
   "cell_type": "code",
   "execution_count": 159,
   "metadata": {},
   "outputs": [
    {
     "name": "stderr",
     "output_type": "stream",
     "text": [
      "C:\\Users\\risha\\AppData\\Local\\Temp\\ipykernel_12088\\1090442803.py:4: SettingWithCopyWarning: \n",
      "A value is trying to be set on a copy of a slice from a DataFrame.\n",
      "Try using .loc[row_indexer,col_indexer] = value instead\n",
      "\n",
      "See the caveats in the documentation: https://pandas.pydata.org/pandas-docs/stable/user_guide/indexing.html#returning-a-view-versus-a-copy\n",
      "  valid['Predictions']=predictions\n"
     ]
    }
   ],
   "source": [
    "#plot data\n",
    "train=data_close[:training_data_len]\n",
    "valid=data_close[training_data_len:]\n",
    "valid['Predictions']=predictions\n"
   ]
  },
  {
   "cell_type": "code",
   "execution_count": 160,
   "metadata": {},
   "outputs": [
    {
     "data": {
      "image/png": "[encoded data removed]",
      "text/plain": [
       "<Figure size 1152x576 with 1 Axes>"
      ]
     },
     "metadata": {
      "needs_background": "light"
     },
     "output_type": "display_data"
    }
   ],
   "source": [
    "#visualize the data\n",
    "plt.figure(figsize=(16,8))\n",
    "plt.title('Model')\n",
    "plt.xlabel('Date',fontsize=18)\n",
    "plt.ylabel('Close price USD ($)',fontsize=18)\n",
    "plt.plot(train['Close'],linewidth=3)\n",
    "plt.plot(valid['Close'],color='Green',linewidth=3,label='Closed Prices')\n",
    "plt.plot(valid['Predictions'],color='red',linewidth=3,label='Predictions')\n",
    "plt.legend(['Train','Val','Predictions'],loc='lower right')\n",
    "plt.show()\n"
   ]
  },
  {
   "cell_type": "code",
   "execution_count": 161,
   "metadata": {},
   "outputs": [
    {
     "data": {
      "text/html": [
       "<div>\n",
       "<style scoped>\n",
       "    .dataframe tbody tr th:only-of-type {\n",
       "        vertical-align: middle;\n",
       "    }\n",
       "\n",
       "    .dataframe tbody tr th {\n",
       "        vertical-align: top;\n",
       "    }\n",
       "\n",
       "    .dataframe thead th {\n",
       "        text-align: right;\n",
       "    }\n",
       "</style>\n",
       "<table border=\"1\" class=\"dataframe\">\n",
       "  <thead>\n",
       "    <tr style=\"text-align: right;\">\n",
       "      <th></th>\n",
       "      <th>Close</th>\n",
       "      <th>Predictions</th>\n",
       "    </tr>\n",
       "    <tr>\n",
       "      <th>Date</th>\n",
       "      <th></th>\n",
       "      <th></th>\n",
       "    </tr>\n",
       "  </thead>\n",
       "  <tbody>\n",
       "    <tr>\n",
       "      <th>2019-09-04</th>\n",
       "      <td>1800.619995</td>\n",
       "      <td>1745.894409</td>\n",
       "    </tr>\n",
       "    <tr>\n",
       "      <th>2019-09-05</th>\n",
       "      <td>1840.719971</td>\n",
       "      <td>1747.803101</td>\n",
       "    </tr>\n",
       "    <tr>\n",
       "      <th>2019-09-06</th>\n",
       "      <td>1833.510010</td>\n",
       "      <td>1753.933350</td>\n",
       "    </tr>\n",
       "    <tr>\n",
       "      <th>2019-09-09</th>\n",
       "      <td>1831.349976</td>\n",
       "      <td>1761.038940</td>\n",
       "    </tr>\n",
       "    <tr>\n",
       "      <th>2019-09-10</th>\n",
       "      <td>1820.550049</td>\n",
       "      <td>1767.782959</td>\n",
       "    </tr>\n",
       "    <tr>\n",
       "      <th>...</th>\n",
       "      <td>...</td>\n",
       "      <td>...</td>\n",
       "    </tr>\n",
       "    <tr>\n",
       "      <th>2022-01-25</th>\n",
       "      <td>2799.719971</td>\n",
       "      <td>2924.510986</td>\n",
       "    </tr>\n",
       "    <tr>\n",
       "      <th>2022-01-26</th>\n",
       "      <td>2777.449951</td>\n",
       "      <td>2877.378418</td>\n",
       "    </tr>\n",
       "    <tr>\n",
       "      <th>2022-01-27</th>\n",
       "      <td>2792.750000</td>\n",
       "      <td>2831.153564</td>\n",
       "    </tr>\n",
       "    <tr>\n",
       "      <th>2022-01-28</th>\n",
       "      <td>2879.560059</td>\n",
       "      <td>2791.188232</td>\n",
       "    </tr>\n",
       "    <tr>\n",
       "      <th>2022-01-31</th>\n",
       "      <td>2946.070068</td>\n",
       "      <td>2765.537354</td>\n",
       "    </tr>\n",
       "  </tbody>\n",
       "</table>\n",
       "<p>608 rows × 2 columns</p>\n",
       "</div>"
      ],
      "text/plain": [
       "                  Close  Predictions\n",
       "Date                                \n",
       "2019-09-04  1800.619995  1745.894409\n",
       "2019-09-05  1840.719971  1747.803101\n",
       "2019-09-06  1833.510010  1753.933350\n",
       "2019-09-09  1831.349976  1761.038940\n",
       "2019-09-10  1820.550049  1767.782959\n",
       "...                 ...          ...\n",
       "2022-01-25  2799.719971  2924.510986\n",
       "2022-01-26  2777.449951  2877.378418\n",
       "2022-01-27  2792.750000  2831.153564\n",
       "2022-01-28  2879.560059  2791.188232\n",
       "2022-01-31  2946.070068  2765.537354\n",
       "\n",
       "[608 rows x 2 columns]"
      ]
     },
     "execution_count": 161,
     "metadata": {},
     "output_type": "execute_result"
    }
   ],
   "source": [
    "valid"
   ]
  },
  {
   "cell_type": "code",
   "execution_count": 162,
   "metadata": {},
   "outputs": [
    {
     "name": "stderr",
     "output_type": "stream",
     "text": [
      "D:\\VS CODE\\Python\\lib\\site-packages\\sklearn\\base.py:450: UserWarning: X does not have valid feature names, but MinMaxScaler was fitted with feature names\n",
      "  warnings.warn(\n"
     ]
    },
    {
     "name": "stdout",
     "output_type": "stream",
     "text": [
      "[[2755.1687]]\n"
     ]
    }
   ],
   "source": [
    "#Analysis on last 60 days to predict the price of the stock\n",
    "stock_data = web.DataReader('AMZN', data_source='yahoo', start='2021-01-01', end='2022-01-31')\n",
    "stock_data_close = stock_data.filter(['Close'])\n",
    "stock_data_close_set = stock_data_close[-60:].values\n",
    "days_scaled = scale.transform(stock_data_close_set)\n",
    "X_test_sample = []\n",
    "X_test_sample.append(days_scaled)\n",
    "X_test_sample = np.array(X_test_sample)\n",
    "X_test_sample= np.reshape(X_test_sample, (X_test_sample.shape[0], X_test_sample.shape[1], 1))\n",
    "predicted_price = model.predict(X_test_sample)\n",
    "predicted_price = scale.inverse_transform(predicted_price)\n",
    "print(predicted_price)\n"
   ]
  },
  {
   "cell_type": "code",
   "execution_count": 163,
   "metadata": {},
   "outputs": [
    {
     "name": "stdout",
     "output_type": "stream",
     "text": [
      "Date\n",
      "2022-01-31    2945.75\n",
      "Name: Close, dtype: float64\n"
     ]
    }
   ],
   "source": [
    "stock_data_actual = web.DataReader('AMZN', data_source='yahoo', start='2022-01-31', end='2022-01-31')\n",
    "print(stock_data_actual['Close'])\n",
    "\n"
   ]
  },
  {
   "cell_type": "code",
   "execution_count": 164,
   "metadata": {},
   "outputs": [
    {
     "name": "stdout",
     "output_type": "stream",
     "text": [
      "Accuracy of the model is:\n",
      "93.53029622920734\n"
     ]
    }
   ],
   "source": [
    "#accuracy\n",
    "print(\"Accuracy of the model is:\")\n",
    "error_percent=abs((predicted_price[0][0]-stock_data_actual['Close'][0])/stock_data_actual['Close'][0])*100\n",
    "print(100-error_percent)\n"
   ]
  }
 ],
 "metadata": {
  "interpreter": {
   "hash": "4ec5db40fe8d2fef741ed65b8e2f682a1fb7dbe8dbf8449c85fdb90ec4343f5c"
  },
  "kernelspec": {
   "display_name": "Python 3.10.1 64-bit",
   "language": "python",
   "name": "python3"
  },
  "language_info": {
   "codemirror_mode": {
    "name": "ipython",
    "version": 3
   },
   "file_extension": ".py",
   "mimetype": "text/x-python",
   "name": "python",
   "nbconvert_exporter": "python",
   "pygments_lexer": "ipython3",
   "version": "3.10.1"
  },
  "orig_nbformat": 4
 },
 "nbformat": 4,
 "nbformat_minor": 2
}
