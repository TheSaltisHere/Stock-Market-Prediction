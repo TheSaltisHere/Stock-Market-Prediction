{
 "cells": [
  {
   "cell_type": "code",
   "execution_count": 3,
   "metadata": {},
   "outputs": [],
   "source": [
    "#libraries\n",
    "import math\n",
    "import numpy as np\n",
    "import matplotlib.pyplot as plt\n",
    "import pandas as pd\n",
    "import pandas_datareader as web\n",
    "from sklearn.preprocessing import MinMaxScaler\n",
    "from keras.models import Sequential\n",
    "from keras.layers import Dense, LSTM"
   ]
  },
  {
   "cell_type": "code",
   "execution_count": null,
   "metadata": {},
   "outputs": [],
   "source": []
  },
  {
   "cell_type": "code",
   "execution_count": 4,
   "metadata": {},
   "outputs": [],
   "source": [
    "#get data from yahoo of any company\n",
    "data_frame=web.DataReader('TSLA',data_source='yahoo',start='2010-01-01',end='2022-01-01')"
   ]
  },
  {
   "cell_type": "code",
   "execution_count": 5,
   "metadata": {},
   "outputs": [
    {
     "data": {
      "text/html": [
       "<div>\n",
       "<style scoped>\n",
       "    .dataframe tbody tr th:only-of-type {\n",
       "        vertical-align: middle;\n",
       "    }\n",
       "\n",
       "    .dataframe tbody tr th {\n",
       "        vertical-align: top;\n",
       "    }\n",
       "\n",
       "    .dataframe thead th {\n",
       "        text-align: right;\n",
       "    }\n",
       "</style>\n",
       "<table border=\"1\" class=\"dataframe\">\n",
       "  <thead>\n",
       "    <tr style=\"text-align: right;\">\n",
       "      <th></th>\n",
       "      <th>High</th>\n",
       "      <th>Low</th>\n",
       "      <th>Open</th>\n",
       "      <th>Close</th>\n",
       "      <th>Volume</th>\n",
       "      <th>Adj Close</th>\n",
       "    </tr>\n",
       "    <tr>\n",
       "      <th>Date</th>\n",
       "      <th></th>\n",
       "      <th></th>\n",
       "      <th></th>\n",
       "      <th></th>\n",
       "      <th></th>\n",
       "      <th></th>\n",
       "    </tr>\n",
       "  </thead>\n",
       "  <tbody>\n",
       "    <tr>\n",
       "      <th>2010-06-29</th>\n",
       "      <td>5.000000</td>\n",
       "      <td>3.508000</td>\n",
       "      <td>3.800000</td>\n",
       "      <td>4.778000</td>\n",
       "      <td>93831500.0</td>\n",
       "      <td>4.778000</td>\n",
       "    </tr>\n",
       "    <tr>\n",
       "      <th>2010-06-30</th>\n",
       "      <td>6.084000</td>\n",
       "      <td>4.660000</td>\n",
       "      <td>5.158000</td>\n",
       "      <td>4.766000</td>\n",
       "      <td>85935500.0</td>\n",
       "      <td>4.766000</td>\n",
       "    </tr>\n",
       "    <tr>\n",
       "      <th>2010-07-01</th>\n",
       "      <td>5.184000</td>\n",
       "      <td>4.054000</td>\n",
       "      <td>5.000000</td>\n",
       "      <td>4.392000</td>\n",
       "      <td>41094000.0</td>\n",
       "      <td>4.392000</td>\n",
       "    </tr>\n",
       "    <tr>\n",
       "      <th>2010-07-02</th>\n",
       "      <td>4.620000</td>\n",
       "      <td>3.742000</td>\n",
       "      <td>4.600000</td>\n",
       "      <td>3.840000</td>\n",
       "      <td>25699000.0</td>\n",
       "      <td>3.840000</td>\n",
       "    </tr>\n",
       "    <tr>\n",
       "      <th>2010-07-06</th>\n",
       "      <td>4.000000</td>\n",
       "      <td>3.166000</td>\n",
       "      <td>4.000000</td>\n",
       "      <td>3.222000</td>\n",
       "      <td>34334500.0</td>\n",
       "      <td>3.222000</td>\n",
       "    </tr>\n",
       "    <tr>\n",
       "      <th>...</th>\n",
       "      <td>...</td>\n",
       "      <td>...</td>\n",
       "      <td>...</td>\n",
       "      <td>...</td>\n",
       "      <td>...</td>\n",
       "      <td>...</td>\n",
       "    </tr>\n",
       "    <tr>\n",
       "      <th>2021-12-27</th>\n",
       "      <td>1117.000000</td>\n",
       "      <td>1070.719971</td>\n",
       "      <td>1073.670044</td>\n",
       "      <td>1093.939941</td>\n",
       "      <td>23715300.0</td>\n",
       "      <td>1093.939941</td>\n",
       "    </tr>\n",
       "    <tr>\n",
       "      <th>2021-12-28</th>\n",
       "      <td>1119.000000</td>\n",
       "      <td>1078.420044</td>\n",
       "      <td>1109.489990</td>\n",
       "      <td>1088.469971</td>\n",
       "      <td>20108000.0</td>\n",
       "      <td>1088.469971</td>\n",
       "    </tr>\n",
       "    <tr>\n",
       "      <th>2021-12-29</th>\n",
       "      <td>1104.000000</td>\n",
       "      <td>1064.140015</td>\n",
       "      <td>1098.640015</td>\n",
       "      <td>1086.189941</td>\n",
       "      <td>18718000.0</td>\n",
       "      <td>1086.189941</td>\n",
       "    </tr>\n",
       "    <tr>\n",
       "      <th>2021-12-30</th>\n",
       "      <td>1095.550049</td>\n",
       "      <td>1053.150024</td>\n",
       "      <td>1061.329956</td>\n",
       "      <td>1070.339966</td>\n",
       "      <td>15680300.0</td>\n",
       "      <td>1070.339966</td>\n",
       "    </tr>\n",
       "    <tr>\n",
       "      <th>2021-12-31</th>\n",
       "      <td>1082.000000</td>\n",
       "      <td>1054.589966</td>\n",
       "      <td>1073.439941</td>\n",
       "      <td>1056.780029</td>\n",
       "      <td>13577900.0</td>\n",
       "      <td>1056.780029</td>\n",
       "    </tr>\n",
       "  </tbody>\n",
       "</table>\n",
       "<p>2899 rows × 6 columns</p>\n",
       "</div>"
      ],
      "text/plain": [
       "                   High          Low         Open        Close      Volume  \\\n",
       "Date                                                                         \n",
       "2010-06-29     5.000000     3.508000     3.800000     4.778000  93831500.0   \n",
       "2010-06-30     6.084000     4.660000     5.158000     4.766000  85935500.0   \n",
       "2010-07-01     5.184000     4.054000     5.000000     4.392000  41094000.0   \n",
       "2010-07-02     4.620000     3.742000     4.600000     3.840000  25699000.0   \n",
       "2010-07-06     4.000000     3.166000     4.000000     3.222000  34334500.0   \n",
       "...                 ...          ...          ...          ...         ...   \n",
       "2021-12-27  1117.000000  1070.719971  1073.670044  1093.939941  23715300.0   \n",
       "2021-12-28  1119.000000  1078.420044  1109.489990  1088.469971  20108000.0   \n",
       "2021-12-29  1104.000000  1064.140015  1098.640015  1086.189941  18718000.0   \n",
       "2021-12-30  1095.550049  1053.150024  1061.329956  1070.339966  15680300.0   \n",
       "2021-12-31  1082.000000  1054.589966  1073.439941  1056.780029  13577900.0   \n",
       "\n",
       "              Adj Close  \n",
       "Date                     \n",
       "2010-06-29     4.778000  \n",
       "2010-06-30     4.766000  \n",
       "2010-07-01     4.392000  \n",
       "2010-07-02     3.840000  \n",
       "2010-07-06     3.222000  \n",
       "...                 ...  \n",
       "2021-12-27  1093.939941  \n",
       "2021-12-28  1088.469971  \n",
       "2021-12-29  1086.189941  \n",
       "2021-12-30  1070.339966  \n",
       "2021-12-31  1056.780029  \n",
       "\n",
       "[2899 rows x 6 columns]"
      ]
     },
     "execution_count": 5,
     "metadata": {},
     "output_type": "execute_result"
    }
   ],
   "source": [
    "#see the data\n",
    "data_frame"
   ]
  },
  {
   "cell_type": "code",
   "execution_count": 6,
   "metadata": {},
   "outputs": [
    {
     "data": {
      "text/plain": [
       "(2899, 6)"
      ]
     },
     "execution_count": 6,
     "metadata": {},
     "output_type": "execute_result"
    }
   ],
   "source": [
    "#rows and columns\n",
    "data_frame.shape"
   ]
  },
  {
   "cell_type": "code",
   "execution_count": 7,
   "metadata": {},
   "outputs": [
    {
     "data": {
      "text/plain": [
       "<AxesSubplot:xlabel='Date'>"
      ]
     },
     "execution_count": 7,
     "metadata": {},
     "output_type": "execute_result"
    },
    {
     "data": {
      "image/png": "[encoded data removed]",
      "text/plain": [
       "<Figure size 1152x576 with 1 Axes>"
      ]
     },
     "metadata": {
      "needs_background": "light"
     },
     "output_type": "display_data"
    }
   ],
   "source": [
    "#see how the data looks like graphically\n",
    "data_frame['Close'].plot(figsize=(16,8),label='TSLA')"
   ]
  },
  {
   "cell_type": "code",
   "execution_count": 8,
   "metadata": {},
   "outputs": [
    {
     "data": {
      "text/plain": [
       "2320"
      ]
     },
     "execution_count": 8,
     "metadata": {},
     "output_type": "execute_result"
    }
   ],
   "source": [
    "#get the close price of the stock data in a numpy array\n",
    "data_close=data_frame.filter(['Close']).values\n",
    "#training set 80% of the data\n",
    "training_data_len=math.ceil(len(data_close)*0.8)\n",
    "training_data_len\n"
   ]
  },
  {
   "cell_type": "code",
   "execution_count": 9,
   "metadata": {},
   "outputs": [
    {
     "data": {
      "text/plain": [
       "array([[0.00131893],\n",
       "       [0.00130915],\n",
       "       [0.00100428],\n",
       "       ...,\n",
       "       [0.88284484],\n",
       "       [0.86992455],\n",
       "       [0.858871  ]])"
      ]
     },
     "execution_count": 9,
     "metadata": {},
     "output_type": "execute_result"
    }
   ],
   "source": [
    "#scaling  the data\n",
    "scale=MinMaxScaler(feature_range=(0,1))\n",
    "scaled_data=scale.fit_transform(data_close)\n",
    "scaled_data"
   ]
  },
  {
   "cell_type": "code",
   "execution_count": 10,
   "metadata": {},
   "outputs": [
    {
     "name": "stdout",
     "output_type": "stream",
     "text": [
      "[array([1.31893193e-03, 1.30914992e-03, 1.00427966e-03, 5.54310014e-04,\n",
      "       5.05398786e-05, 0.00000000e+00, 2.70633795e-04, 2.60851783e-04,\n",
      "       2.03790498e-04, 3.81495759e-04, 6.58650766e-04, 6.66802378e-04,\n",
      "       7.89076560e-04, 9.96127858e-04, 7.33645675e-04, 7.20603251e-04,\n",
      "       8.47768245e-04, 8.95047712e-04, 8.39616827e-04, 7.74403930e-04,\n",
      "       8.02119373e-04, 7.41797482e-04, 6.74953990e-04, 8.34725821e-04,\n",
      "       1.00264907e-03, 8.90156706e-04, 7.58100706e-04, 6.17892705e-04,\n",
      "       6.19523105e-04, 5.26594571e-04, 3.42367904e-04, 2.93458231e-04,\n",
      "       4.10841601e-04, 4.85836511e-04, 5.46158402e-04, 4.84206111e-04,\n",
      "       4.87466717e-04, 5.38006790e-04, 7.05930233e-04, 5.54310014e-04,\n",
      "       6.68432778e-04, 6.43977942e-04, 6.35826329e-04, 6.63541772e-04,\n",
      "       5.99959081e-04, 7.58100706e-04, 8.57550257e-04, 8.55920051e-04,\n",
      "       7.72773336e-04, 8.31465021e-04, 8.00489167e-04, 7.12451445e-04,\n",
      "       8.02119373e-04, 8.67332270e-04, 1.00754008e-03, 8.37986621e-04,\n",
      "       7.22233457e-04, 8.57550257e-04, 8.10270790e-04, 6.63541772e-04])]\n",
      "[0.0006130016989133171]\n",
      "\n",
      "[array([1.31893193e-03, 1.30914992e-03, 1.00427966e-03, 5.54310014e-04,\n",
      "       5.05398786e-05, 0.00000000e+00, 2.70633795e-04, 2.60851783e-04,\n",
      "       2.03790498e-04, 3.81495759e-04, 6.58650766e-04, 6.66802378e-04,\n",
      "       7.89076560e-04, 9.96127858e-04, 7.33645675e-04, 7.20603251e-04,\n",
      "       8.47768245e-04, 8.95047712e-04, 8.39616827e-04, 7.74403930e-04,\n",
      "       8.02119373e-04, 7.41797482e-04, 6.74953990e-04, 8.34725821e-04,\n",
      "       1.00264907e-03, 8.90156706e-04, 7.58100706e-04, 6.17892705e-04,\n",
      "       6.19523105e-04, 5.26594571e-04, 3.42367904e-04, 2.93458231e-04,\n",
      "       4.10841601e-04, 4.85836511e-04, 5.46158402e-04, 4.84206111e-04,\n",
      "       4.87466717e-04, 5.38006790e-04, 7.05930233e-04, 5.54310014e-04,\n",
      "       6.68432778e-04, 6.43977942e-04, 6.35826329e-04, 6.63541772e-04,\n",
      "       5.99959081e-04, 7.58100706e-04, 8.57550257e-04, 8.55920051e-04,\n",
      "       7.72773336e-04, 8.31465021e-04, 8.00489167e-04, 7.12451445e-04,\n",
      "       8.02119373e-04, 8.67332270e-04, 1.00754008e-03, 8.37986621e-04,\n",
      "       7.22233457e-04, 8.57550257e-04, 8.10270790e-04, 6.63541772e-04]), array([1.30914992e-03, 1.00427966e-03, 5.54310014e-04, 5.05398786e-05,\n",
      "       0.00000000e+00, 2.70633795e-04, 2.60851783e-04, 2.03790498e-04,\n",
      "       3.81495759e-04, 6.58650766e-04, 6.66802378e-04, 7.89076560e-04,\n",
      "       9.96127858e-04, 7.33645675e-04, 7.20603251e-04, 8.47768245e-04,\n",
      "       8.95047712e-04, 8.39616827e-04, 7.74403930e-04, 8.02119373e-04,\n",
      "       7.41797482e-04, 6.74953990e-04, 8.34725821e-04, 1.00264907e-03,\n",
      "       8.90156706e-04, 7.58100706e-04, 6.17892705e-04, 6.19523105e-04,\n",
      "       5.26594571e-04, 3.42367904e-04, 2.93458231e-04, 4.10841601e-04,\n",
      "       4.85836511e-04, 5.46158402e-04, 4.84206111e-04, 4.87466717e-04,\n",
      "       5.38006790e-04, 7.05930233e-04, 5.54310014e-04, 6.68432778e-04,\n",
      "       6.43977942e-04, 6.35826329e-04, 6.63541772e-04, 5.99959081e-04,\n",
      "       7.58100706e-04, 8.57550257e-04, 8.55920051e-04, 7.72773336e-04,\n",
      "       8.31465021e-04, 8.00489167e-04, 7.12451445e-04, 8.02119373e-04,\n",
      "       8.67332270e-04, 1.00754008e-03, 8.37986621e-04, 7.22233457e-04,\n",
      "       8.57550257e-04, 8.10270790e-04, 6.63541772e-04, 6.13001699e-04])]\n",
      "[0.0006130016989133171, 0.0007010392265699565]\n",
      "\n"
     ]
    }
   ],
   "source": [
    "training_data=scaled_data[0:training_data_len,:]\n",
    "x_train=[]\n",
    "y_train=[]\n",
    "for i in range(60,len(training_data)):\n",
    "    x_train.append(training_data[i-60:i,0])\n",
    "    y_train.append(training_data[i,0])\n",
    "    if i<=61:\n",
    "        print(x_train)\n",
    "        print(y_train)\n",
    "        print()"
   ]
  },
  {
   "cell_type": "code",
   "execution_count": 11,
   "metadata": {},
   "outputs": [
    {
     "data": {
      "text/plain": [
       "(2260, 60, 1)"
      ]
     },
     "execution_count": 11,
     "metadata": {},
     "output_type": "execute_result"
    }
   ],
   "source": [
    "#convert training datasets to numpy and reshaping the data\n",
    "x_train,y_train=np.array(x_train),np.array(y_train)\n",
    "x_train=np.reshape(x_train,(x_train.shape[0],x_train.shape[1],1))\n",
    "x_train.shape"
   ]
  },
  {
   "cell_type": "code",
   "execution_count": 15,
   "metadata": {},
   "outputs": [],
   "source": [
    "#lstm model\n",
    "model=Sequential()\n",
    "model.add(LSTM(units=50,return_sequences=True,input_shape=(x_train.shape[1],1)))\n",
    "model.add(LSTM(units=50,return_sequences=False))\n",
    "model.add(Dense(25))\n",
    "model.add(Dense(1))"
   ]
  },
  {
   "cell_type": "code",
   "execution_count": 17,
   "metadata": {},
   "outputs": [],
   "source": [
    "#running the model\n",
    "model.compile(optimizer='adam',loss='mean_squared_error')"
   ]
  },
  {
   "cell_type": "code",
   "execution_count": 18,
   "metadata": {},
   "outputs": [
    {
     "name": "stdout",
     "output_type": "stream",
     "text": [
      "2260/2260 [==============================] - 48s 20ms/step - loss: 1.7982e-05\n"
     ]
    },
    {
     "data": {
      "text/plain": [
       "<keras.callbacks.History at 0x13309046ef0>"
      ]
     },
     "execution_count": 18,
     "metadata": {},
     "output_type": "execute_result"
    }
   ],
   "source": [
    "model.fit(x_train,y_train,batch_size=1,epochs=1)"
   ]
  },
  {
   "cell_type": "code",
   "execution_count": null,
   "metadata": {},
   "outputs": [],
   "source": [
    "#creating test-data set\n"
   ]
  }
 ],
 "metadata": {
  "interpreter": {
   "hash": "4ec5db40fe8d2fef741ed65b8e2f682a1fb7dbe8dbf8449c85fdb90ec4343f5c"
  },
  "kernelspec": {
   "display_name": "Python 3.10.1 64-bit",
   "language": "python",
   "name": "python3"
  },
  "language_info": {
   "codemirror_mode": {
    "name": "ipython",
    "version": 3
   },
   "file_extension": ".py",
   "mimetype": "text/x-python",
   "name": "python",
   "nbconvert_exporter": "python",
   "pygments_lexer": "ipython3",
   "version": "3.10.1"
  },
  "orig_nbformat": 4
 },
 "nbformat": 4,
 "nbformat_minor": 2
}
