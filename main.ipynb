{
 "cells": [
  {
   "cell_type": "code",
   "execution_count": 262,
   "metadata": {},
   "outputs": [],
   "source": [
    "#libraries\n",
    "import math\n",
    "import numpy as np\n",
    "import matplotlib.pyplot as plt\n",
    "import pandas as pd\n",
    "import pandas_datareader as web\n",
    "from sklearn.preprocessing import MinMaxScaler\n",
    "from keras.models import Sequential\n",
    "from keras.layers import Dense, LSTM"
   ]
  },
  {
   "cell_type": "code",
   "execution_count": null,
   "metadata": {},
   "outputs": [],
   "source": []
  },
  {
   "cell_type": "code",
   "execution_count": 263,
   "metadata": {},
   "outputs": [],
   "source": [
    "#get data from yahoo of any company\n",
    "data_frame=web.DataReader('AAPL',data_source='yahoo',start='2010-01-01',end='2021-12-31')"
   ]
  },
  {
   "cell_type": "code",
   "execution_count": 264,
   "metadata": {},
   "outputs": [
    {
     "data": {
      "text/html": [
       "<div>\n",
       "<style scoped>\n",
       "    .dataframe tbody tr th:only-of-type {\n",
       "        vertical-align: middle;\n",
       "    }\n",
       "\n",
       "    .dataframe tbody tr th {\n",
       "        vertical-align: top;\n",
       "    }\n",
       "\n",
       "    .dataframe thead th {\n",
       "        text-align: right;\n",
       "    }\n",
       "</style>\n",
       "<table border=\"1\" class=\"dataframe\">\n",
       "  <thead>\n",
       "    <tr style=\"text-align: right;\">\n",
       "      <th></th>\n",
       "      <th>High</th>\n",
       "      <th>Low</th>\n",
       "      <th>Open</th>\n",
       "      <th>Close</th>\n",
       "      <th>Volume</th>\n",
       "      <th>Adj Close</th>\n",
       "    </tr>\n",
       "    <tr>\n",
       "      <th>Date</th>\n",
       "      <th></th>\n",
       "      <th></th>\n",
       "      <th></th>\n",
       "      <th></th>\n",
       "      <th></th>\n",
       "      <th></th>\n",
       "    </tr>\n",
       "  </thead>\n",
       "  <tbody>\n",
       "    <tr>\n",
       "      <th>2009-12-31</th>\n",
       "      <td>7.619643</td>\n",
       "      <td>7.520000</td>\n",
       "      <td>7.611786</td>\n",
       "      <td>7.526071</td>\n",
       "      <td>352410800.0</td>\n",
       "      <td>6.452592</td>\n",
       "    </tr>\n",
       "    <tr>\n",
       "      <th>2010-01-04</th>\n",
       "      <td>7.660714</td>\n",
       "      <td>7.585000</td>\n",
       "      <td>7.622500</td>\n",
       "      <td>7.643214</td>\n",
       "      <td>493729600.0</td>\n",
       "      <td>6.553025</td>\n",
       "    </tr>\n",
       "    <tr>\n",
       "      <th>2010-01-05</th>\n",
       "      <td>7.699643</td>\n",
       "      <td>7.616071</td>\n",
       "      <td>7.664286</td>\n",
       "      <td>7.656429</td>\n",
       "      <td>601904800.0</td>\n",
       "      <td>6.564355</td>\n",
       "    </tr>\n",
       "    <tr>\n",
       "      <th>2010-01-06</th>\n",
       "      <td>7.686786</td>\n",
       "      <td>7.526786</td>\n",
       "      <td>7.656429</td>\n",
       "      <td>7.534643</td>\n",
       "      <td>552160000.0</td>\n",
       "      <td>6.459940</td>\n",
       "    </tr>\n",
       "    <tr>\n",
       "      <th>2010-01-07</th>\n",
       "      <td>7.571429</td>\n",
       "      <td>7.466071</td>\n",
       "      <td>7.562500</td>\n",
       "      <td>7.520714</td>\n",
       "      <td>477131200.0</td>\n",
       "      <td>6.447997</td>\n",
       "    </tr>\n",
       "    <tr>\n",
       "      <th>...</th>\n",
       "      <td>...</td>\n",
       "      <td>...</td>\n",
       "      <td>...</td>\n",
       "      <td>...</td>\n",
       "      <td>...</td>\n",
       "      <td>...</td>\n",
       "    </tr>\n",
       "    <tr>\n",
       "      <th>2021-12-27</th>\n",
       "      <td>180.419998</td>\n",
       "      <td>177.070007</td>\n",
       "      <td>177.089996</td>\n",
       "      <td>180.330002</td>\n",
       "      <td>74919600.0</td>\n",
       "      <td>180.330002</td>\n",
       "    </tr>\n",
       "    <tr>\n",
       "      <th>2021-12-28</th>\n",
       "      <td>181.330002</td>\n",
       "      <td>178.529999</td>\n",
       "      <td>180.160004</td>\n",
       "      <td>179.289993</td>\n",
       "      <td>79144300.0</td>\n",
       "      <td>179.289993</td>\n",
       "    </tr>\n",
       "    <tr>\n",
       "      <th>2021-12-29</th>\n",
       "      <td>180.630005</td>\n",
       "      <td>178.139999</td>\n",
       "      <td>179.330002</td>\n",
       "      <td>179.380005</td>\n",
       "      <td>62348900.0</td>\n",
       "      <td>179.380005</td>\n",
       "    </tr>\n",
       "    <tr>\n",
       "      <th>2021-12-30</th>\n",
       "      <td>180.570007</td>\n",
       "      <td>178.089996</td>\n",
       "      <td>179.470001</td>\n",
       "      <td>178.199997</td>\n",
       "      <td>59773000.0</td>\n",
       "      <td>178.199997</td>\n",
       "    </tr>\n",
       "    <tr>\n",
       "      <th>2021-12-31</th>\n",
       "      <td>179.229996</td>\n",
       "      <td>177.259995</td>\n",
       "      <td>178.089996</td>\n",
       "      <td>177.570007</td>\n",
       "      <td>64062300.0</td>\n",
       "      <td>177.570007</td>\n",
       "    </tr>\n",
       "  </tbody>\n",
       "</table>\n",
       "<p>3022 rows × 6 columns</p>\n",
       "</div>"
      ],
      "text/plain": [
       "                  High         Low        Open       Close       Volume  \\\n",
       "Date                                                                      \n",
       "2009-12-31    7.619643    7.520000    7.611786    7.526071  352410800.0   \n",
       "2010-01-04    7.660714    7.585000    7.622500    7.643214  493729600.0   \n",
       "2010-01-05    7.699643    7.616071    7.664286    7.656429  601904800.0   \n",
       "2010-01-06    7.686786    7.526786    7.656429    7.534643  552160000.0   \n",
       "2010-01-07    7.571429    7.466071    7.562500    7.520714  477131200.0   \n",
       "...                ...         ...         ...         ...          ...   \n",
       "2021-12-27  180.419998  177.070007  177.089996  180.330002   74919600.0   \n",
       "2021-12-28  181.330002  178.529999  180.160004  179.289993   79144300.0   \n",
       "2021-12-29  180.630005  178.139999  179.330002  179.380005   62348900.0   \n",
       "2021-12-30  180.570007  178.089996  179.470001  178.199997   59773000.0   \n",
       "2021-12-31  179.229996  177.259995  178.089996  177.570007   64062300.0   \n",
       "\n",
       "             Adj Close  \n",
       "Date                    \n",
       "2009-12-31    6.452592  \n",
       "2010-01-04    6.553025  \n",
       "2010-01-05    6.564355  \n",
       "2010-01-06    6.459940  \n",
       "2010-01-07    6.447997  \n",
       "...                ...  \n",
       "2021-12-27  180.330002  \n",
       "2021-12-28  179.289993  \n",
       "2021-12-29  179.380005  \n",
       "2021-12-30  178.199997  \n",
       "2021-12-31  177.570007  \n",
       "\n",
       "[3022 rows x 6 columns]"
      ]
     },
     "execution_count": 264,
     "metadata": {},
     "output_type": "execute_result"
    }
   ],
   "source": [
    "#see the data\n",
    "data_frame"
   ]
  },
  {
   "cell_type": "code",
   "execution_count": 265,
   "metadata": {},
   "outputs": [
    {
     "data": {
      "text/plain": [
       "(3022, 6)"
      ]
     },
     "execution_count": 265,
     "metadata": {},
     "output_type": "execute_result"
    }
   ],
   "source": [
    "#rows and columns\n",
    "data_frame.shape"
   ]
  },
  {
   "cell_type": "code",
   "execution_count": 266,
   "metadata": {},
   "outputs": [
    {
     "data": {
      "text/plain": [
       "<AxesSubplot:xlabel='Date'>"
      ]
     },
     "execution_count": 266,
     "metadata": {},
     "output_type": "execute_result"
    },
    {
     "data": {
      "image/png": "[encoded data removed]",
      "text/plain": [
       "<Figure size 1152x576 with 1 Axes>"
      ]
     },
     "metadata": {
      "needs_background": "light"
     },
     "output_type": "display_data"
    }
   ],
   "source": [
    "#see how the data looks like graphically\n",
    "data_frame['Close'].plot(figsize=(16,8))"
   ]
  },
  {
   "cell_type": "code",
   "execution_count": 267,
   "metadata": {},
   "outputs": [
    {
     "data": {
      "text/plain": [
       "2418"
      ]
     },
     "execution_count": 267,
     "metadata": {},
     "output_type": "execute_result"
    }
   ],
   "source": [
    "#get the close price of the stock data in a numpy array\n",
    "data_close=data_frame.filter(['Close'])\n",
    "data_close_set=data_close.values\n",
    "#training set 80% of the data\n",
    "training_data_len=math.ceil(len(data_close)*0.8)\n",
    "training_data_len\n"
   ]
  },
  {
   "cell_type": "code",
   "execution_count": 268,
   "metadata": {},
   "outputs": [
    {
     "data": {
      "text/plain": [
       "array([[0.00384584],\n",
       "       [0.00452113],\n",
       "       [0.00459731],\n",
       "       ...,\n",
       "       [0.9945236 ],\n",
       "       [0.98772127],\n",
       "       [0.9840896 ]])"
      ]
     },
     "execution_count": 268,
     "metadata": {},
     "output_type": "execute_result"
    }
   ],
   "source": [
    "#scaling  the data\n",
    "scale=MinMaxScaler(feature_range=(0,1))\n",
    "scaled_data=scale.fit_transform(data_close)\n",
    "scaled_data"
   ]
  },
  {
   "cell_type": "code",
   "execution_count": 269,
   "metadata": {},
   "outputs": [
    {
     "name": "stdout",
     "output_type": "stream",
     "text": [
      "[array([3.84583956e-03, 4.52112883e-03, 4.59730631e-03, 3.89525473e-03,\n",
      "       3.81495680e-03, 4.10319040e-03, 3.71819907e-03, 3.22613926e-03,\n",
      "       3.82936876e-03, 3.57819722e-03, 2.85761599e-03, 4.73318495e-03,\n",
      "       4.05172463e-03, 3.29819628e-03, 1.17351464e-03, 2.26879845e-03,\n",
      "       2.85967484e-03, 3.25908362e-03, 1.49056939e-03, 2.05610186e-06,\n",
      "       5.51755483e-04, 7.84400109e-04, 1.47821629e-03, 0.00000000e+00,\n",
      "       7.02046083e-04, 4.26168341e-04, 8.52342181e-04, 6.32047909e-04,\n",
      "       1.36292340e-03, 1.71498136e-03, 2.33674052e-03, 2.16174371e-03,\n",
      "       2.23997454e-03, 1.98056485e-03, 1.72321402e-03, 1.03145669e-03,\n",
      "       1.77262918e-03, 2.04850692e-03, 2.58791205e-03, 3.48761329e-03,\n",
      "       3.45878938e-03, 3.55760597e-03, 3.84172186e-03, 5.53817907e-03,\n",
      "       5.56494413e-03, 6.37611204e-03, 6.75081187e-03, 6.88669051e-03,\n",
      "       7.11316408e-03, 6.54493505e-03, 6.67051944e-03, 6.60258012e-03,\n",
      "       6.71169645e-03, 6.21758329e-03, 6.73228496e-03, 7.47551080e-03,\n",
      "       7.68345197e-03, 7.12345559e-03, 7.99845337e-03, 8.30520838e-03,\n",
      "       9.01755421e-03, 8.84255465e-03, 9.04226042e-03, 9.56107979e-03,\n",
      "       9.77725636e-03, 9.99548903e-03, 9.86166648e-03, 1.02404840e-02,\n",
      "       1.03434265e-02, 1.03722450e-02, 1.10434193e-02, 1.17084143e-02,\n",
      "       1.13954745e-02, 1.13275352e-02, 1.08169512e-02, 1.38289810e-02,\n",
      "       1.53216120e-02, 1.62192489e-02, 1.59454300e-02, 1.44095604e-02,\n",
      "       1.43189764e-02, 1.57683743e-02, 1.42139778e-02, 1.52969058e-02,\n",
      "       1.37178030e-02, 1.31639860e-02, 1.11587149e-02, 9.01961031e-03,\n",
      "       1.27522213e-02, 1.32731078e-02, 1.44198574e-02, 1.36519253e-02,\n",
      "       1.27172236e-02, 1.27995776e-02, 1.24166424e-02, 1.15890010e-02,\n",
      "       9.41079193e-03, 1.03496058e-02, 1.12637080e-02, 1.09466560e-02])]\n",
      "[0.010718126366079363]\n",
      "\n",
      "[array([3.84583956e-03, 4.52112883e-03, 4.59730631e-03, 3.89525473e-03,\n",
      "       3.81495680e-03, 4.10319040e-03, 3.71819907e-03, 3.22613926e-03,\n",
      "       3.82936876e-03, 3.57819722e-03, 2.85761599e-03, 4.73318495e-03,\n",
      "       4.05172463e-03, 3.29819628e-03, 1.17351464e-03, 2.26879845e-03,\n",
      "       2.85967484e-03, 3.25908362e-03, 1.49056939e-03, 2.05610186e-06,\n",
      "       5.51755483e-04, 7.84400109e-04, 1.47821629e-03, 0.00000000e+00,\n",
      "       7.02046083e-04, 4.26168341e-04, 8.52342181e-04, 6.32047909e-04,\n",
      "       1.36292340e-03, 1.71498136e-03, 2.33674052e-03, 2.16174371e-03,\n",
      "       2.23997454e-03, 1.98056485e-03, 1.72321402e-03, 1.03145669e-03,\n",
      "       1.77262918e-03, 2.04850692e-03, 2.58791205e-03, 3.48761329e-03,\n",
      "       3.45878938e-03, 3.55760597e-03, 3.84172186e-03, 5.53817907e-03,\n",
      "       5.56494413e-03, 6.37611204e-03, 6.75081187e-03, 6.88669051e-03,\n",
      "       7.11316408e-03, 6.54493505e-03, 6.67051944e-03, 6.60258012e-03,\n",
      "       6.71169645e-03, 6.21758329e-03, 6.73228496e-03, 7.47551080e-03,\n",
      "       7.68345197e-03, 7.12345559e-03, 7.99845337e-03, 8.30520838e-03,\n",
      "       9.01755421e-03, 8.84255465e-03, 9.04226042e-03, 9.56107979e-03,\n",
      "       9.77725636e-03, 9.99548903e-03, 9.86166648e-03, 1.02404840e-02,\n",
      "       1.03434265e-02, 1.03722450e-02, 1.10434193e-02, 1.17084143e-02,\n",
      "       1.13954745e-02, 1.13275352e-02, 1.08169512e-02, 1.38289810e-02,\n",
      "       1.53216120e-02, 1.62192489e-02, 1.59454300e-02, 1.44095604e-02,\n",
      "       1.43189764e-02, 1.57683743e-02, 1.42139778e-02, 1.52969058e-02,\n",
      "       1.37178030e-02, 1.31639860e-02, 1.11587149e-02, 9.01961031e-03,\n",
      "       1.27522213e-02, 1.32731078e-02, 1.44198574e-02, 1.36519253e-02,\n",
      "       1.27172236e-02, 1.27995776e-02, 1.24166424e-02, 1.15890010e-02,\n",
      "       9.41079193e-03, 1.03496058e-02, 1.12637080e-02, 1.09466560e-02]), array([4.52112883e-03, 4.59730631e-03, 3.89525473e-03, 3.81495680e-03,\n",
      "       4.10319040e-03, 3.71819907e-03, 3.22613926e-03, 3.82936876e-03,\n",
      "       3.57819722e-03, 2.85761599e-03, 4.73318495e-03, 4.05172463e-03,\n",
      "       3.29819628e-03, 1.17351464e-03, 2.26879845e-03, 2.85967484e-03,\n",
      "       3.25908362e-03, 1.49056939e-03, 2.05610186e-06, 5.51755483e-04,\n",
      "       7.84400109e-04, 1.47821629e-03, 0.00000000e+00, 7.02046083e-04,\n",
      "       4.26168341e-04, 8.52342181e-04, 6.32047909e-04, 1.36292340e-03,\n",
      "       1.71498136e-03, 2.33674052e-03, 2.16174371e-03, 2.23997454e-03,\n",
      "       1.98056485e-03, 1.72321402e-03, 1.03145669e-03, 1.77262918e-03,\n",
      "       2.04850692e-03, 2.58791205e-03, 3.48761329e-03, 3.45878938e-03,\n",
      "       3.55760597e-03, 3.84172186e-03, 5.53817907e-03, 5.56494413e-03,\n",
      "       6.37611204e-03, 6.75081187e-03, 6.88669051e-03, 7.11316408e-03,\n",
      "       6.54493505e-03, 6.67051944e-03, 6.60258012e-03, 6.71169645e-03,\n",
      "       6.21758329e-03, 6.73228496e-03, 7.47551080e-03, 7.68345197e-03,\n",
      "       7.12345559e-03, 7.99845337e-03, 8.30520838e-03, 9.01755421e-03,\n",
      "       8.84255465e-03, 9.04226042e-03, 9.56107979e-03, 9.77725636e-03,\n",
      "       9.99548903e-03, 9.86166648e-03, 1.02404840e-02, 1.03434265e-02,\n",
      "       1.03722450e-02, 1.10434193e-02, 1.17084143e-02, 1.13954745e-02,\n",
      "       1.13275352e-02, 1.08169512e-02, 1.38289810e-02, 1.53216120e-02,\n",
      "       1.62192489e-02, 1.59454300e-02, 1.44095604e-02, 1.43189764e-02,\n",
      "       1.57683743e-02, 1.42139778e-02, 1.52969058e-02, 1.37178030e-02,\n",
      "       1.31639860e-02, 1.11587149e-02, 9.01961031e-03, 1.27522213e-02,\n",
      "       1.32731078e-02, 1.44198574e-02, 1.36519253e-02, 1.27172236e-02,\n",
      "       1.27995776e-02, 1.24166424e-02, 1.15890010e-02, 9.41079193e-03,\n",
      "       1.03496058e-02, 1.12637080e-02, 1.09466560e-02, 1.07181264e-02])]\n",
      "[0.010718126366079363, 0.012620460389957802]\n",
      "\n"
     ]
    }
   ],
   "source": [
    "training_data=scaled_data[0:training_data_len,:]\n",
    "x_train=[]\n",
    "y_train=[]\n",
    "for i in range(100,len(training_data)):\n",
    "    x_train.append(training_data[i-30:i,0])\n",
    "    y_train.append(training_data[i,0])\n",
    "    if i<=30:\n",
    "        print(x_train)\n",
    "        print(y_train)\n",
    "        print()"
   ]
  },
  {
   "cell_type": "code",
   "execution_count": 270,
   "metadata": {},
   "outputs": [
    {
     "data": {
      "text/plain": [
       "(2318, 100, 1)"
      ]
     },
     "execution_count": 270,
     "metadata": {},
     "output_type": "execute_result"
    }
   ],
   "source": [
    "#convert training datasets to numpy and reshaping the data\n",
    "x_train,y_train=np.array(x_train),np.array(y_train)\n",
    "x_train=np.reshape(x_train,(x_train.shape[0],x_train.shape[1],1))\n",
    "x_train.shape"
   ]
  },
  {
   "cell_type": "code",
   "execution_count": 271,
   "metadata": {},
   "outputs": [],
   "source": [
    "#lstm model\n",
    "model=Sequential()\n",
    "model.add(LSTM(units=50,return_sequences=True,input_shape=(x_train.shape[1],1)))\n",
    "model.add(LSTM(units=50,return_sequences=False))\n",
    "model.add(Dense(25))\n",
    "model.add(Dense(1))"
   ]
  },
  {
   "cell_type": "code",
   "execution_count": 272,
   "metadata": {},
   "outputs": [],
   "source": [
    "#running the model\n",
    "model.compile(optimizer='adam',loss='mean_squared_error')"
   ]
  },
  {
   "cell_type": "code",
   "execution_count": 273,
   "metadata": {},
   "outputs": [
    {
     "name": "stdout",
     "output_type": "stream",
     "text": [
      "2318/2318 [==============================] - 53s 22ms/step - loss: 1.8738e-04\n"
     ]
    },
    {
     "data": {
      "text/plain": [
       "<keras.callbacks.History at 0x13334c0cfa0>"
      ]
     },
     "execution_count": 273,
     "metadata": {},
     "output_type": "execute_result"
    }
   ],
   "source": [
    "model.fit(x_train,y_train,batch_size=1,epochs=1)"
   ]
  },
  {
   "cell_type": "code",
   "execution_count": 274,
   "metadata": {},
   "outputs": [],
   "source": [
    "#creating test-data set\n",
    "test_data=scaled_data[training_data_len-30:,:]\n",
    "x_test=[]\n",
    "y_test=data_close_set[training_data_len:,:]\n",
    "for i in range(100,len(test_data)):\n",
    "    x_test.append(test_data[i-30:i,0])"
   ]
  },
  {
   "cell_type": "code",
   "execution_count": 275,
   "metadata": {},
   "outputs": [],
   "source": [
    "#make data into numpy\n",
    "x_test=np.array(x_test)\n",
    "x_test=np.reshape(x_test,(x_test.shape[0],x_test.shape[1],1))"
   ]
  },
  {
   "cell_type": "code",
   "execution_count": 276,
   "metadata": {},
   "outputs": [],
   "source": [
    "#Get the predicted price of the stock\n",
    "predictions=model.predict(x_test)\n",
    "predictions=scale.inverse_transform(predictions)"
   ]
  },
  {
   "cell_type": "code",
   "execution_count": 277,
   "metadata": {},
   "outputs": [
    {
     "data": {
      "text/plain": [
       "10.473092211792801"
      ]
     },
     "execution_count": 277,
     "metadata": {},
     "output_type": "execute_result"
    }
   ],
   "source": [
    "#get root mean squared error\n",
    "rmse=np.sqrt(np.mean(predictions-y_test)**2)\n",
    "rmse"
   ]
  },
  {
   "cell_type": "code",
   "execution_count": 278,
   "metadata": {},
   "outputs": [
    {
     "name": "stderr",
     "output_type": "stream",
     "text": [
      "C:\\Users\\risha\\AppData\\Local\\Temp\\ipykernel_13980\\1090442803.py:4: SettingWithCopyWarning: \n",
      "A value is trying to be set on a copy of a slice from a DataFrame.\n",
      "Try using .loc[row_indexer,col_indexer] = value instead\n",
      "\n",
      "See the caveats in the documentation: https://pandas.pydata.org/pandas-docs/stable/user_guide/indexing.html#returning-a-view-versus-a-copy\n",
      "  valid['Predictions']=predictions\n"
     ]
    }
   ],
   "source": [
    "#plot data\n",
    "train=data_close[:training_data_len]\n",
    "valid=data_close[training_data_len:]\n",
    "valid['Predictions']=predictions\n"
   ]
  },
  {
   "cell_type": "code",
   "execution_count": 279,
   "metadata": {},
   "outputs": [
    {
     "data": {
      "image/png": "[encoded data removed]",
      "text/plain": [
       "<Figure size 1152x576 with 1 Axes>"
      ]
     },
     "metadata": {
      "needs_background": "light"
     },
     "output_type": "display_data"
    }
   ],
   "source": [
    "#visualize the data\n",
    "plt.figure(figsize=(16,8))\n",
    "plt.title('Model')\n",
    "plt.xlabel('Date',fontsize=18)\n",
    "plt.ylabel('Close price USD ($)',fontsize=18)\n",
    "plt.plot(train['Close'],linewidth=3)\n",
    "plt.plot(valid['Close'],color='Green',linewidth=3,label='Closed Prices')\n",
    "plt.plot(valid['Predictions'],color='red',linewidth=3,label='Predictions')\n",
    "plt.legend(['Train','Val','Predictions'],loc='lower right')\n",
    "plt.show()\n"
   ]
  },
  {
   "cell_type": "code",
   "execution_count": 280,
   "metadata": {},
   "outputs": [
    {
     "data": {
      "text/html": [
       "<div>\n",
       "<style scoped>\n",
       "    .dataframe tbody tr th:only-of-type {\n",
       "        vertical-align: middle;\n",
       "    }\n",
       "\n",
       "    .dataframe tbody tr th {\n",
       "        vertical-align: top;\n",
       "    }\n",
       "\n",
       "    .dataframe thead th {\n",
       "        text-align: right;\n",
       "    }\n",
       "</style>\n",
       "<table border=\"1\" class=\"dataframe\">\n",
       "  <thead>\n",
       "    <tr style=\"text-align: right;\">\n",
       "      <th></th>\n",
       "      <th>Close</th>\n",
       "      <th>Predictions</th>\n",
       "    </tr>\n",
       "    <tr>\n",
       "      <th>Date</th>\n",
       "      <th></th>\n",
       "      <th></th>\n",
       "    </tr>\n",
       "  </thead>\n",
       "  <tbody>\n",
       "    <tr>\n",
       "      <th>2019-08-12</th>\n",
       "      <td>50.119999</td>\n",
       "      <td>49.171352</td>\n",
       "    </tr>\n",
       "    <tr>\n",
       "      <th>2019-08-13</th>\n",
       "      <td>52.242500</td>\n",
       "      <td>49.036324</td>\n",
       "    </tr>\n",
       "    <tr>\n",
       "      <th>2019-08-14</th>\n",
       "      <td>50.687500</td>\n",
       "      <td>49.117908</td>\n",
       "    </tr>\n",
       "    <tr>\n",
       "      <th>2019-08-15</th>\n",
       "      <td>50.435001</td>\n",
       "      <td>49.189320</td>\n",
       "    </tr>\n",
       "    <tr>\n",
       "      <th>2019-08-16</th>\n",
       "      <td>51.625000</td>\n",
       "      <td>49.229992</td>\n",
       "    </tr>\n",
       "    <tr>\n",
       "      <th>...</th>\n",
       "      <td>...</td>\n",
       "      <td>...</td>\n",
       "    </tr>\n",
       "    <tr>\n",
       "      <th>2021-12-27</th>\n",
       "      <td>180.330002</td>\n",
       "      <td>151.001236</td>\n",
       "    </tr>\n",
       "    <tr>\n",
       "      <th>2021-12-28</th>\n",
       "      <td>179.289993</td>\n",
       "      <td>151.592468</td>\n",
       "    </tr>\n",
       "    <tr>\n",
       "      <th>2021-12-29</th>\n",
       "      <td>179.380005</td>\n",
       "      <td>152.261124</td>\n",
       "    </tr>\n",
       "    <tr>\n",
       "      <th>2021-12-30</th>\n",
       "      <td>178.199997</td>\n",
       "      <td>152.922684</td>\n",
       "    </tr>\n",
       "    <tr>\n",
       "      <th>2021-12-31</th>\n",
       "      <td>177.570007</td>\n",
       "      <td>153.407700</td>\n",
       "    </tr>\n",
       "  </tbody>\n",
       "</table>\n",
       "<p>604 rows × 2 columns</p>\n",
       "</div>"
      ],
      "text/plain": [
       "                 Close  Predictions\n",
       "Date                               \n",
       "2019-08-12   50.119999    49.171352\n",
       "2019-08-13   52.242500    49.036324\n",
       "2019-08-14   50.687500    49.117908\n",
       "2019-08-15   50.435001    49.189320\n",
       "2019-08-16   51.625000    49.229992\n",
       "...                ...          ...\n",
       "2021-12-27  180.330002   151.001236\n",
       "2021-12-28  179.289993   151.592468\n",
       "2021-12-29  179.380005   152.261124\n",
       "2021-12-30  178.199997   152.922684\n",
       "2021-12-31  177.570007   153.407700\n",
       "\n",
       "[604 rows x 2 columns]"
      ]
     },
     "execution_count": 280,
     "metadata": {},
     "output_type": "execute_result"
    }
   ],
   "source": [
    "valid"
   ]
  },
  {
   "cell_type": "code",
   "execution_count": 281,
   "metadata": {},
   "outputs": [
    {
     "name": "stdout",
     "output_type": "stream",
     "text": [
      "[[153.69682]]\n"
     ]
    },
    {
     "name": "stderr",
     "output_type": "stream",
     "text": [
      "D:\\VS CODE\\Python\\lib\\site-packages\\sklearn\\base.py:450: UserWarning: X does not have valid feature names, but MinMaxScaler was fitted with feature names\n",
      "  warnings.warn(\n"
     ]
    }
   ],
   "source": [
    "#Analysis on last 100 days to predict the price of the stock\n",
    "stock_data = web.DataReader('AAPL', data_source='yahoo', start='2010-01-01', end='2021-12-31')\n",
    "stock_data_close = stock_data.filter(['Close'])\n",
    "stock_data_close_set = stock_data_close[-30:].values\n",
    "days_scaled = scale.transform(stock_data_close_set)\n",
    "X_test_sample = []\n",
    "X_test_sample.append(days_scaled)\n",
    "X_test_sample = np.array(X_test_sample)\n",
    "X_test_sample= np.reshape(X_test_sample, (X_test_sample.shape[0], X_test_sample.shape[1], 1))\n",
    "predicted_price = model.predict(X_test_sample)\n",
    "predicted_price = scale.inverse_transform(predicted_price)\n",
    "print(predicted_price)\n"
   ]
  },
  {
   "cell_type": "code",
   "execution_count": 282,
   "metadata": {},
   "outputs": [
    {
     "name": "stdout",
     "output_type": "stream",
     "text": [
      "Date\n",
      "2021-12-31    177.570007\n",
      "Name: Close, dtype: float64\n"
     ]
    }
   ],
   "source": [
    "stock_data_actual = web.DataReader('AAPL', data_source='yahoo', start='2022-01-01', end='2022-01-01')\n",
    "print(stock_data_actual['Close'])\n"
   ]
  }
 ],
 "metadata": {
  "interpreter": {
   "hash": "4ec5db40fe8d2fef741ed65b8e2f682a1fb7dbe8dbf8449c85fdb90ec4343f5c"
  },
  "kernelspec": {
   "display_name": "Python 3.10.1 64-bit",
   "language": "python",
   "name": "python3"
  },
  "language_info": {
   "codemirror_mode": {
    "name": "ipython",
    "version": 3
   },
   "file_extension": ".py",
   "mimetype": "text/x-python",
   "name": "python",
   "nbconvert_exporter": "python",
   "pygments_lexer": "ipython3",
   "version": "3.10.1"
  },
  "orig_nbformat": 4
 },
 "nbformat": 4,
 "nbformat_minor": 2
}
